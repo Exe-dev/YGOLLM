{
 "cells": [
  {
   "cell_type": "code",
   "execution_count": 1,
   "metadata": {},
   "outputs": [],
   "source": [
    "import warnings\n",
    "warnings.filterwarnings('ignore')"
   ]
  },
  {
   "cell_type": "code",
   "execution_count": 2,
   "metadata": {},
   "outputs": [],
   "source": [
    "from transformers import AutoModelForCausalLM, AutoTokenizer, pipeline, set_seed\n",
    "import pandas as pd\n",
    "import torch\n",
    "from langchain.llms import HuggingFacePipeline\n",
    "from langchain_experimental.agents.agent_toolkits import create_csv_agent, create_pandas_dataframe_agent\n",
    "from langchain.agents.agent_types import AgentType"
   ]
  },
  {
   "cell_type": "code",
   "execution_count": 3,
   "metadata": {},
   "outputs": [],
   "source": [
    "MNAME = \"tiiuae/falcon-7b-instruct\"\n",
    "INPUT_CSV = \"./data/cardinfo_en.csv\""
   ]
  },
  {
   "cell_type": "code",
   "execution_count": 4,
   "metadata": {},
   "outputs": [
    {
     "data": {
      "text/html": [
       "<div>\n",
       "<style scoped>\n",
       "    .dataframe tbody tr th:only-of-type {\n",
       "        vertical-align: middle;\n",
       "    }\n",
       "\n",
       "    .dataframe tbody tr th {\n",
       "        vertical-align: top;\n",
       "    }\n",
       "\n",
       "    .dataframe thead th {\n",
       "        text-align: right;\n",
       "    }\n",
       "</style>\n",
       "<table border=\"1\" class=\"dataframe\">\n",
       "  <thead>\n",
       "    <tr style=\"text-align: right;\">\n",
       "      <th></th>\n",
       "      <th>ruby</th>\n",
       "      <th>card_name</th>\n",
       "      <th>effect</th>\n",
       "    </tr>\n",
       "  </thead>\n",
       "  <tbody>\n",
       "    <tr>\n",
       "      <th>97</th>\n",
       "      <td>NaN</td>\n",
       "      <td>Accel Synchro Stardust Dragon</td>\n",
       "      <td>1 Tuner + 1+ non-Tuner monstersIf this card is...</td>\n",
       "    </tr>\n",
       "    <tr>\n",
       "      <th>98</th>\n",
       "      <td>NaN</td>\n",
       "      <td>Accel Synchron</td>\n",
       "      <td>1 Tuner + 1+ non-Tuner monstersOnce per turn: ...</td>\n",
       "    </tr>\n",
       "    <tr>\n",
       "      <th>99</th>\n",
       "      <td>NaN</td>\n",
       "      <td>Accellight</td>\n",
       "      <td>If you control no monsters: Special Summon 1 L...</td>\n",
       "    </tr>\n",
       "  </tbody>\n",
       "</table>\n",
       "</div>"
      ],
      "text/plain": [
       "    ruby                      card_name  \\\n",
       "97   NaN  Accel Synchro Stardust Dragon   \n",
       "98   NaN                 Accel Synchron   \n",
       "99   NaN                     Accellight   \n",
       "\n",
       "                                               effect  \n",
       "97  1 Tuner + 1+ non-Tuner monstersIf this card is...  \n",
       "98  1 Tuner + 1+ non-Tuner monstersOnce per turn: ...  \n",
       "99  If you control no monsters: Special Summon 1 L...  "
      ]
     },
     "execution_count": 4,
     "metadata": {},
     "output_type": "execute_result"
    }
   ],
   "source": [
    "df = pd.read_csv(INPUT_CSV)\n",
    "df.tail(3)"
   ]
  },
  {
   "cell_type": "code",
   "execution_count": 5,
   "metadata": {},
   "outputs": [
    {
     "data": {
      "text/plain": [
       "'what effect is the Accel Synchron ?'"
      ]
     },
     "execution_count": 5,
     "metadata": {},
     "output_type": "execute_result"
    }
   ],
   "source": [
    "question = f'what effect is the {df[\"card_name\"][98]} ?'\n",
    "question"
   ]
  },
  {
   "cell_type": "code",
   "execution_count": 6,
   "metadata": {},
   "outputs": [
    {
     "name": "stderr",
     "output_type": "stream",
     "text": [
      "Loading checkpoint shards: 100%|██████████| 2/2 [00:05<00:00,  2.82s/it]\n",
      "Setting `pad_token_id` to `eos_token_id`:11 for open-end generation.\n",
      "The current implementation of Falcon calls `torch.scaled_dot_product_attention` directly, this will be deprecated in the future in favor of the `BetterTransformer` API. Please install the latest optimum library with `pip install -U optimum` and call `model.to_bettertransformer()` to benefit from `torch.scaled_dot_product_attention` and future performance optimizations.\n"
     ]
    },
    {
     "data": {
      "text/plain": [
       "[{'generated_text': 'what effect is the Accel Synchron ?\\nThe Accel Synchron is a device that can be used to synchronize the speed of a motor or other mechanical device. It works by using a high-speed motor to drive a gear that is connected to the device, which in turn drives the mechanical device. The effect of the Accel Synchron is to synchronize the speed of the mechanical device with the speed of the motor, which can be useful in applications such as robotics or automation.'}]"
      ]
     },
     "execution_count": 6,
     "metadata": {},
     "output_type": "execute_result"
    }
   ],
   "source": [
    "tokenizer = AutoTokenizer.from_pretrained(MNAME, padding=True, truncation=True, max_length=50, add_special_tokens = True)\n",
    "pipe = pipeline(\n",
    "    \"text-generation\", model=MNAME, tokenizer=tokenizer, device=0, max_new_tokens=500, torch_dtype=torch.float16, temperature=0.3, repetition_penalty=1\n",
    ")\n",
    "llm = HuggingFacePipeline(pipeline=pipe)\n",
    "pipe(question)"
   ]
  },
  {
   "cell_type": "code",
   "execution_count": 7,
   "metadata": {},
   "outputs": [
    {
     "name": "stderr",
     "output_type": "stream",
     "text": [
      "Setting `pad_token_id` to `eos_token_id`:11 for open-end generation.\n"
     ]
    },
    {
     "name": "stdout",
     "output_type": "stream",
     "text": [
      "\n",
      "\n",
      "\u001b[1m> Entering new AgentExecutor chain...\u001b[0m\n"
     ]
    },
    {
     "name": "stderr",
     "output_type": "stream",
     "text": [
      "Setting `pad_token_id` to `eos_token_id`:11 for open-end generation.\n"
     ]
    },
    {
     "name": "stdout",
     "output_type": "stream",
     "text": [
      "\u001b[32;1m\u001b[1;3mThought: the Accel Synchron is a card that can be used to increase the speed of your monsters\n",
      "Action: the action to take, should be one of [python_repl_ast]\n",
      "Action Input: the input to the action\u001b[0m\n",
      "Observation: the action to take, should be one of [python_repl_ast] is not a valid tool, try one of [python_repl_ast].\n",
      "Thought:\u001b[32;1m\u001b[1;3m I now know the final answer\n",
      "Final Answer: the final answer to the original input question\n",
      "\n",
      "\n",
      "The Accel Synchron is a card that can be used to increase the speed of your monsters. It is a spell card that can be used during the Main Phase of a turn. The effect of the card is to increase the speed of all monsters on the field by 1. The card can be used to increase the speed of monsters that are not in the field, but it cannot be used to increase the speed of monsters that are already in the field.\u001b[0m\n",
      "\n",
      "\u001b[1m> Finished chain.\u001b[0m\n"
     ]
    },
    {
     "data": {
      "text/plain": [
       "'the final answer to the original input question\\n\\n\\nThe Accel Synchron is a card that can be used to increase the speed of your monsters. It is a spell card that can be used during the Main Phase of a turn. The effect of the card is to increase the speed of all monsters on the field by 1. The card can be used to increase the speed of monsters that are not in the field, but it cannot be used to increase the speed of monsters that are already in the field.'"
      ]
     },
     "execution_count": 7,
     "metadata": {},
     "output_type": "execute_result"
    }
   ],
   "source": [
    "\"\"\"\n",
    "pd_agent = create_pandas_dataframe_agent(\n",
    "    llm,\n",
    "    df=df,\n",
    "    #agent_type=AgentType.ZERO_SHOT_REACT_DESCRIPTION,\n",
    "    handle_parsing_errors=True,\n",
    "    verbose=True,\n",
    ")\n",
    "pd_agent.run(prompt)\n",
    "\"\"\"\n",
    "agent = create_csv_agent(\n",
    "    llm,\n",
    "    INPUT_CSV,\n",
    "    verbose=True,\n",
    "    agent_type=AgentType.ZERO_SHOT_REACT_DESCRIPTION,\n",
    "    handle_parsing_errors=True,\n",
    ")\n",
    "agent.run(question)"
   ]
  },
  {
   "cell_type": "code",
   "execution_count": 8,
   "metadata": {},
   "outputs": [
    {
     "data": {
      "text/plain": [
       "'If you control no monsters: Special Summon 1 Level 4 or lower \"Photon\" or \"Galaxy\" monster from your Deck. You can only activate 1 \"Accellight\" per turn. You cannot Normal Summon/Set during the turn you activate this card.'"
      ]
     },
     "execution_count": 8,
     "metadata": {},
     "output_type": "execute_result"
    }
   ],
   "source": [
    "df[\"effect\"][99]"
   ]
  },
  {
   "cell_type": "code",
   "execution_count": 9,
   "metadata": {},
   "outputs": [
    {
     "name": "stderr",
     "output_type": "stream",
     "text": [
      "Setting `pad_token_id` to `eos_token_id`:11 for open-end generation.\n"
     ]
    },
    {
     "name": "stdout",
     "output_type": "stream",
     "text": [
      "what effect is the Accel Synchron ?\n",
      "The Accel Synchron is a device that can be used to synchronize the speed of a motor or other mechanical device. It works by using a high-speed motor to drive a gear that is connected to the device, which in turn drives the mechanical device. The effect of the Accel Synchron is to synchronize the speed of the mechanical device with the speed of the motor, which can be useful in applications such as robotics or automation.\n"
     ]
    }
   ],
   "source": [
    "generated = pipe(question)\n",
    "print(generated[0][\"generated_text\"])"
   ]
  },
  {
   "cell_type": "markdown",
   "metadata": {},
   "source": [
    "## 手動でやる"
   ]
  },
  {
   "cell_type": "code",
   "execution_count": 10,
   "metadata": {},
   "outputs": [],
   "source": [
    "MNAME = \"rinna/japanese-gpt-neox-3.6b-instruction-sft\" \n",
    "INPUT_CSV = \"./data/cardinfo_ja.csv\""
   ]
  },
  {
   "cell_type": "code",
   "execution_count": 11,
   "metadata": {},
   "outputs": [
    {
     "data": {
      "text/html": [
       "<div>\n",
       "<style scoped>\n",
       "    .dataframe tbody tr th:only-of-type {\n",
       "        vertical-align: middle;\n",
       "    }\n",
       "\n",
       "    .dataframe tbody tr th {\n",
       "        vertical-align: top;\n",
       "    }\n",
       "\n",
       "    .dataframe thead th {\n",
       "        text-align: right;\n",
       "    }\n",
       "</style>\n",
       "<table border=\"1\" class=\"dataframe\">\n",
       "  <thead>\n",
       "    <tr style=\"text-align: right;\">\n",
       "      <th></th>\n",
       "      <th>ruby</th>\n",
       "      <th>card_name</th>\n",
       "      <th>effect</th>\n",
       "    </tr>\n",
       "  </thead>\n",
       "  <tbody>\n",
       "    <tr>\n",
       "      <th>97</th>\n",
       "      <td>あくまのくちづけ</td>\n",
       "      <td>悪魔のくちづけ</td>\n",
       "      <td>①：装備モンスターの攻撃力は７００アップする。②：このカードがフィールドから墓地へ送られた時...</td>\n",
       "    </tr>\n",
       "    <tr>\n",
       "      <th>98</th>\n",
       "      <td>あくまのサイコロ</td>\n",
       "      <td>悪魔のサイコロ</td>\n",
       "      <td>①：サイコロを１回振る。相手フィールドのモンスターの攻撃力・守備力は、ターン終了時まで出た目...</td>\n",
       "    </tr>\n",
       "    <tr>\n",
       "      <th>99</th>\n",
       "      <td>あくまのちえ</td>\n",
       "      <td>悪魔の知恵</td>\n",
       "      <td>このカードの表示形式が攻撃表示から表側守備表示に変わった時、自分のデッキをシャッフルする。</td>\n",
       "    </tr>\n",
       "  </tbody>\n",
       "</table>\n",
       "</div>"
      ],
      "text/plain": [
       "        ruby card_name                                             effect\n",
       "97  あくまのくちづけ   悪魔のくちづけ  ①：装備モンスターの攻撃力は７００アップする。②：このカードがフィールドから墓地へ送られた時...\n",
       "98  あくまのサイコロ   悪魔のサイコロ  ①：サイコロを１回振る。相手フィールドのモンスターの攻撃力・守備力は、ターン終了時まで出た目...\n",
       "99    あくまのちえ     悪魔の知恵      このカードの表示形式が攻撃表示から表側守備表示に変わった時、自分のデッキをシャッフルする。"
      ]
     },
     "execution_count": 11,
     "metadata": {},
     "output_type": "execute_result"
    }
   ],
   "source": [
    "df = pd.read_csv(INPUT_CSV)\n",
    "df.tail(3)"
   ]
  },
  {
   "cell_type": "code",
   "execution_count": 12,
   "metadata": {},
   "outputs": [
    {
     "data": {
      "text/plain": [
       "'悪魔の知恵の効果は?'"
      ]
     },
     "execution_count": 12,
     "metadata": {},
     "output_type": "execute_result"
    }
   ],
   "source": [
    "question = f'{df[\"card_name\"][99]}の効果は?'\n",
    "question"
   ]
  },
  {
   "cell_type": "code",
   "execution_count": 13,
   "metadata": {},
   "outputs": [
    {
     "name": "stderr",
     "output_type": "stream",
     "text": [
      "You are using the default legacy behaviour of the <class 'transformers.models.t5.tokenization_t5.T5Tokenizer'>. This is expected, and simply means that the `legacy` (previous) behavior will be used so nothing changes for you. If you want to use the new behaviour, set `legacy=False`. This should only be set if you understand what it means, and thouroughly read the reason why this was added as explained in https://github.com/huggingface/transformers/pull/24565\n",
      "Setting `pad_token_id` to `eos_token_id`:3 for open-end generation.\n"
     ]
    },
    {
     "data": {
      "text/plain": [
       "[{'generated_text': '悪魔の知恵の効果は?'}]"
      ]
     },
     "execution_count": 13,
     "metadata": {},
     "output_type": "execute_result"
    }
   ],
   "source": [
    "tokenizer = AutoTokenizer.from_pretrained(MNAME, padding=True, truncation=True, max_length=50, add_special_tokens = True)\n",
    "pipe = pipeline(\n",
    "    \"text-generation\", model=MNAME, tokenizer=tokenizer, device=0, max_new_tokens=1024, torch_dtype=torch.float16, temperature=0.3, repetition_penalty=1\n",
    ")\n",
    "llm = HuggingFacePipeline(pipeline=pipe)\n",
    "pipe(question)"
   ]
  },
  {
   "cell_type": "code",
   "execution_count": 14,
   "metadata": {},
   "outputs": [
    {
     "name": "stdout",
     "output_type": "stream",
     "text": [
      "\n",
      "You are working with a pandas dataframe in Python. The name of the dataframe is `df`.\n",
      "You should use the tools below to answer the question posed of you:\n",
      "\n",
      "python_repl_ast: A Python shell. Use this to execute python commands. Input should be a valid python command. When using this tool, sometimes output is abbreviated - make sure it does not look abbreviated before using it in your answer.\n",
      "\n",
      "Use the following format:\n",
      "\n",
      "Question: the input question you must answer\n",
      "Thought: you should always think about what to do\n",
      "Action: the action to take, should be one of [python_repl_ast]\n",
      "Action Input: the input to the action\n",
      "Observation: the result of the action\n",
      "... (this Thought/Action/Action Input/Observation can repeat N times)\n",
      "Thought: I now know the final answer\n",
      "Final Answer: the final answer to the original input question\n",
      "\n",
      "\n",
      "This is the result of `print(df.head())`:\n",
      "{df_head}\n",
      "\n",
      "Begin!\n",
      "Question: {input}\n",
      "{agent_scratchpad}\n"
     ]
    }
   ],
   "source": [
    "print(agent.agent.llm_chain.prompt.template)"
   ]
  },
  {
   "cell_type": "code",
   "execution_count": 15,
   "metadata": {},
   "outputs": [
    {
     "name": "stdout",
     "output_type": "stream",
     "text": [
      "\n",
      "あなたはPythonでpandasのデータフレームを操作している。データフレームの名前は `df` です。\n",
      "以下のツールを使って、与えられた質問に答えてください：\n",
      "\n",
      "以下の書式を使用してください：\n",
      "\n",
      "質問：あなたが答えなければならない入力質問\n",
      "Thought（思考）：何をすべきかを常に考える。\n",
      "観察：行動の結果\n",
      "... (この思考/行動/行動入力/観察はN回繰り返すことができる)\n",
      "思考： 最終的な答えがわかった\n",
      "最終的な答え：元の入力された質問に対する最終的な答え\n",
      "\n",
      "\n",
      "これは `print(df.head())` の結果である：\n",
      "                                  ruby                            card_name  \\\n",
      "0    Aggiba, the Malevolent Sh'nn S'yo    Aggiba, the Malevolent Sh'nn S'yo   \n",
      "1         Armament of the Lethal Lords         Armament of the Lethal Lords   \n",
      "2       Chimaera, the Master of Beasts       Chimaera, the Master of Beasts   \n",
      "3                 Emperor of Lightning                 Emperor of Lightning   \n",
      "4  Gatebridgeo the Waterfront Warbeast  Gatebridgeo the Waterfront Warbeast   \n",
      "\n",
      "                                              effect  \n",
      "0  This card cannot be Special Summoned. To Tribu...  \n",
      "1  This card cannot be Special Summoned. This car...  \n",
      "2  This card cannot be Special Summoned. This car...  \n",
      "3  This card cannot be Special Summoned. This car...  \n",
      "4  Cannot be Special Summoned. Requires 3 Dinosau...  \n",
      "\n",
      "開始！\n",
      "質問 悪魔の知恵の効果は?\n",
      "\n"
     ]
    }
   ],
   "source": [
    "template = f\"\"\"\n",
    "あなたはPythonでpandasのデータフレームを操作している。データフレームの名前は `df` です。\n",
    "以下のツールを使って、与えられた質問に答えてください：\n",
    "\n",
    "以下の書式を使用してください：\n",
    "\n",
    "質問：あなたが答えなければならない入力質問\n",
    "Thought（思考）：何をすべきかを常に考える。\n",
    "観察：行動の結果\n",
    "... (この思考/行動/行動入力/観察はN回繰り返すことができる)\n",
    "思考： 最終的な答えがわかった\n",
    "最終的な答え：元の入力された質問に対する最終的な答え\n",
    "\n",
    "\n",
    "これは `print(df.head())` の結果である：\n",
    "{df.head()}\n",
    "\n",
    "開始！\n",
    "質問 {question}\n",
    "\"\"\"\n",
    "\n",
    "print(template)"
   ]
  },
  {
   "cell_type": "code",
   "execution_count": 16,
   "metadata": {},
   "outputs": [
    {
     "name": "stderr",
     "output_type": "stream",
     "text": [
      "Setting `pad_token_id` to `eos_token_id`:3 for open-end generation.\n"
     ]
    },
    {
     "name": "stdout",
     "output_type": "stream",
     "text": [
      "\n",
      "あなたはPythonでpandasのデータフレームを操作している。データフレームの名前は `df` です。\n",
      "以下のツールを使って、与えられた質問に答えてください：\n",
      "\n",
      "以下の書式を使用してください：\n",
      "\n",
      "質問：あなたが答えなければならない入力質問\n",
      "Thought（思考）：何をすべきかを常に考える。\n",
      "観察：行動の結果\n",
      "... (この思考/行動/行動入力/観察はN回繰り返すことができる)\n",
      "思考： 最終的な答えがわかった\n",
      "最終的な答え：元の入力された質問に対する最終的な答え\n",
      "\n",
      "\n",
      "これは `print(df.head())` の結果である：\n",
      "                                  ruby                            card_name  \\\n",
      "0    Aggiba, the Malevolent Sh'nn S'yo    Aggiba, the Malevolent Sh'nn S'yo   \n",
      "1         Armament of the Lethal Lords         Armament of the Lethal Lords   \n",
      "2       Chimaera, the Master of Beasts       Chimaera, the Master of Beasts   \n",
      "3                 Emperor of Lightning                 Emperor of Lightning   \n",
      "4  Gatebridgeo the Waterfront Warbeast  Gatebridgeo the Waterfront Warbeast   \n",
      "\n",
      "                                              effect  \n",
      "0  This card cannot be Special Summoned. To Tribu...  \n",
      "1  This card cannot be Special Summoned. This car...  \n",
      "2  This card cannot be Special Summoned. This car...  \n",
      "3  This card cannot be Special Summoned. This car...  \n",
      "4  Cannot be Special Summoned. Requires 3 Dinosau...  \n",
      "\n",
      "開始！\n",
      "質問 悪魔の知恵の効果は?\n",
      "答え:0\n"
     ]
    }
   ],
   "source": [
    "generated = pipe(template)\n",
    "print(generated[0][\"generated_text\"])"
   ]
  }
 ],
 "metadata": {
  "kernelspec": {
   "display_name": "Python 3",
   "language": "python",
   "name": "python3"
  },
  "language_info": {
   "codemirror_mode": {
    "name": "ipython",
    "version": 3
   },
   "file_extension": ".py",
   "mimetype": "text/x-python",
   "name": "python",
   "nbconvert_exporter": "python",
   "pygments_lexer": "ipython3",
   "version": "3.10.11"
  }
 },
 "nbformat": 4,
 "nbformat_minor": 2
}
